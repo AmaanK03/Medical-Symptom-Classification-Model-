{
 "cells": [
  {
   "cell_type": "markdown",
   "id": "94749a77",
   "metadata": {},
   "source": [
    "# Data Cleaning Process"
   ]
  },
  {
   "cell_type": "markdown",
   "id": "052cdb46",
   "metadata": {},
   "source": [
    "## Step 1: Importing Libraries"
   ]
  },
  {
   "cell_type": "code",
   "execution_count": 1,
   "id": "c4a8818a",
   "metadata": {},
   "outputs": [],
   "source": [
    "\n",
    "# Importing necessary libraries\n",
    "import pandas as pd\n",
    "    "
   ]
  },
  {
   "cell_type": "markdown",
   "id": "6cca642f",
   "metadata": {},
   "source": [
    "## Step 2: Loading the Dataset"
   ]
  },
  {
   "cell_type": "code",
   "execution_count": 2,
   "id": "4a8a4210",
   "metadata": {},
   "outputs": [
    {
     "name": "stdout",
     "output_type": "stream",
     "text": [
      "Initial Dataset Loaded:\n",
      "<class 'pandas.core.frame.DataFrame'>\n",
      "RangeIndex: 1500 entries, 0 to 1499\n",
      "Data columns (total 15 columns):\n",
      " #   Column                       Non-Null Count  Dtype  \n",
      "---  ------                       --------------  -----  \n",
      " 0   Age                          1310 non-null   float64\n",
      " 1   Gender                       1279 non-null   object \n",
      " 2   Ethnicity                    1306 non-null   object \n",
      " 3   Region                       1297 non-null   object \n",
      " 4   Socioeconomic Status         1295 non-null   object \n",
      " 5   Symptom Description          1295 non-null   object \n",
      " 6   Symptom Severity             1289 non-null   float64\n",
      " 7   Duration of Symptoms (days)  1298 non-null   float64\n",
      " 8   Additional Symptoms          1293 non-null   object \n",
      " 9   Chronic Condition            952 non-null    object \n",
      " 10  Allergies                    1023 non-null   object \n",
      " 11  Previous Visits              1301 non-null   float64\n",
      " 12  Potential Condition          1308 non-null   object \n",
      " 13  Suggested Action             1274 non-null   object \n",
      " 14  Insurance Status             1298 non-null   object \n",
      "dtypes: float64(4), object(11)\n",
      "memory usage: 175.9+ KB\n",
      "None\n"
     ]
    }
   ],
   "source": [
    "\n",
    "# Loading the dataset\n",
    "data = pd.read_csv(\"Data_set.csv\")\n",
    "print(\"Initial Dataset Loaded:\")\n",
    "print(data.info())\n",
    "    "
   ]
  },
  {
   "cell_type": "markdown",
   "id": "b3246dfc",
   "metadata": {},
   "source": [
    "## Step 3: Handling Missing Values"
   ]
  },
  {
   "cell_type": "code",
   "execution_count": 3,
   "id": "8f6e3636",
   "metadata": {},
   "outputs": [],
   "source": [
    "\n",
    "# Handling missing values for numerical columns by filling with the mean\n",
    "numerical_columns = ['Age', 'Symptom Severity', 'Duration of Symptoms (days)']\n",
    "for column in numerical_columns:\n",
    "    data[column] = data[column].fillna(data[column].mean())\n",
    "\n",
    "# Handling missing values for categorical columns by filling with the mode\n",
    "categorical_columns = ['Gender', 'Region', 'Ethnicity', 'Socioeconomic Status', \n",
    "                       'Symptom Description', 'Additional Symptoms', 'Chronic Condition', \n",
    "                       'Allergies', 'Potential Condition', 'Suggested Action', 'Insurance Status']\n",
    "for column in categorical_columns:\n",
    "    data[column] = data[column].fillna(data[column].mode()[0])\n",
    "    "
   ]
  },
  {
   "cell_type": "markdown",
   "id": "cea72b9d",
   "metadata": {},
   "source": [
    "## Step 4: Standardising Text Columns"
   ]
  },
  {
   "cell_type": "code",
   "execution_count": 4,
   "id": "d743a1e3",
   "metadata": {},
   "outputs": [],
   "source": [
    "\n",
    "# Standardising text columns to lowercase for consistency\n",
    "text_columns = ['Symptom Description', 'Additional Symptoms', 'Potential Condition', 'Suggested Action']\n",
    "data[text_columns] = data[text_columns].apply(lambda x: x.str.lower())\n",
    "    "
   ]
  },
  {
   "cell_type": "markdown",
   "id": "7226983a",
   "metadata": {},
   "source": [
    "## Step 5: Removing Unnecessary Columns"
   ]
  },
  {
   "cell_type": "code",
   "execution_count": 5,
   "id": "38417b2e",
   "metadata": {},
   "outputs": [
    {
     "name": "stdout",
     "output_type": "stream",
     "text": [
      "Removed 'Previous Visits' column.\n"
     ]
    }
   ],
   "source": [
    "\n",
    "if 'Previous Visits' in data.columns:\n",
    "    data = data.drop(columns=['Previous Visits'])\n",
    "print(\"Removed 'Previous Visits' column.\")\n",
    "    "
   ]
  },
  {
   "cell_type": "markdown",
   "id": "07426405",
   "metadata": {},
   "source": [
    "## Step 6: Removing Duplicate Entries"
   ]
  },
  {
   "cell_type": "code",
   "execution_count": 6,
   "id": "a573f74c",
   "metadata": {},
   "outputs": [],
   "source": [
    "\n",
    "# Removing duplicate rows\n",
    "data = data.drop_duplicates()\n",
    "    "
   ]
  },
  {
   "cell_type": "markdown",
   "id": "801ad825",
   "metadata": {},
   "source": [
    "## Step 7: Verifying Data Integrity"
   ]
  },
  {
   "cell_type": "code",
   "execution_count": 7,
   "id": "fa0246af",
   "metadata": {},
   "outputs": [
    {
     "name": "stdout",
     "output_type": "stream",
     "text": [
      "Dataset After Cleaning:\n",
      "<class 'pandas.core.frame.DataFrame'>\n",
      "RangeIndex: 1500 entries, 0 to 1499\n",
      "Data columns (total 14 columns):\n",
      " #   Column                       Non-Null Count  Dtype  \n",
      "---  ------                       --------------  -----  \n",
      " 0   Age                          1500 non-null   float64\n",
      " 1   Gender                       1500 non-null   object \n",
      " 2   Ethnicity                    1500 non-null   object \n",
      " 3   Region                       1500 non-null   object \n",
      " 4   Socioeconomic Status         1500 non-null   object \n",
      " 5   Symptom Description          1500 non-null   object \n",
      " 6   Symptom Severity             1500 non-null   float64\n",
      " 7   Duration of Symptoms (days)  1500 non-null   float64\n",
      " 8   Additional Symptoms          1500 non-null   object \n",
      " 9   Chronic Condition            1500 non-null   object \n",
      " 10  Allergies                    1500 non-null   object \n",
      " 11  Potential Condition          1500 non-null   object \n",
      " 12  Suggested Action             1500 non-null   object \n",
      " 13  Insurance Status             1500 non-null   object \n",
      "dtypes: float64(3), object(11)\n",
      "memory usage: 164.2+ KB\n",
      "None\n"
     ]
    }
   ],
   "source": [
    "\n",
    "# Verifying that the dataset is clean and consistent\n",
    "print(\"Dataset After Cleaning:\")\n",
    "print(data.info())\n",
    "    "
   ]
  },
  {
   "cell_type": "markdown",
   "id": "a988a003",
   "metadata": {},
   "source": [
    "## Step 8: Exporting the Cleaned Dataset"
   ]
  },
  {
   "cell_type": "code",
   "execution_count": 8,
   "id": "b99c2d18",
   "metadata": {},
   "outputs": [
    {
     "name": "stdout",
     "output_type": "stream",
     "text": [
      "Cleaned dataset saved as 'Cleaned_Data_set_Final.csv'.\n"
     ]
    }
   ],
   "source": [
    "\n",
    "# Exporting the cleaned dataset\n",
    "data.to_csv(\"Cleaned_Data_set_Final.csv\", index=False)\n",
    "print(\"Cleaned dataset saved as 'Cleaned_data_set.csv'.\")\n",
    "    "
   ]
  },
  {
   "cell_type": "code",
   "execution_count": null,
   "id": "74239946-8b61-4a22-b70e-4577973228e2",
   "metadata": {},
   "outputs": [],
   "source": []
  }
 ],
 "metadata": {
  "kernelspec": {
   "display_name": "Python 3 (ipykernel)",
   "language": "python",
   "name": "python3"
  },
  "language_info": {
   "codemirror_mode": {
    "name": "ipython",
    "version": 3
   },
   "file_extension": ".py",
   "mimetype": "text/x-python",
   "name": "python",
   "nbconvert_exporter": "python",
   "pygments_lexer": "ipython3",
   "version": "3.12.7"
  }
 },
 "nbformat": 4,
 "nbformat_minor": 5
}
