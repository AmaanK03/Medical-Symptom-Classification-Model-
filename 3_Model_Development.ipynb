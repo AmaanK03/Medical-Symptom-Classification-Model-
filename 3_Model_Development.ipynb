{
 "cells": [
  {
   "cell_type": "code",
   "execution_count": null,
   "id": "10e4e380-a5b3-4553-af47-1cb8f23042ea",
   "metadata": {},
   "outputs": [],
   "source": []
  },
  {
   "cell_type": "code",
   "execution_count": 1,
   "id": "a160abb7-e298-40b7-a789-1333bbe73b84",
   "metadata": {},
   "outputs": [],
   "source": [
    "# Import necessary libraries\n",
    "from transformers import BertTokenizer, BertForSequenceClassification, AdamW\n",
    "from torch.utils.data import DataLoader, Dataset\n",
    "import torch\n",
    "from sklearn.model_selection import train_test_split\n",
    "from sklearn.preprocessing import LabelEncoder\n",
    "from sklearn.metrics import classification_report, accuracy_score\n",
    "import pandas as pd\n",
    "import numpy as np\n"
   ]
  },
  {
   "cell_type": "code",
   "execution_count": null,
   "id": "bcc42812-3717-4765-acee-dec0c86ca6b0",
   "metadata": {},
   "outputs": [],
   "source": []
  },
  {
   "cell_type": "code",
   "execution_count": 2,
   "id": "eaef7d45-a4aa-4946-8c1c-a234613281fa",
   "metadata": {},
   "outputs": [
    {
     "name": "stdout",
     "output_type": "stream",
     "text": [
      "Original Dataset Size: 1500\n"
     ]
    }
   ],
   "source": [
    "# Load the cleaned dataset\n",
    "data = pd.read_csv(\"Cleaned_data_set.csv\")\n",
    "\n",
    "# Save initial data size\n",
    "print(f\"Original Dataset Size: {len(data)}\")\n",
    "\n",
    "# Define features and target\n",
    "X = data[\"Symptom Description\"]\n",
    "y = data[\"Potential Condition\"]\n",
    "\n",
    "# Encode target labels\n",
    "label_encoder = LabelEncoder()\n",
    "y = label_encoder.fit_transform(y)\n"
   ]
  },
  {
   "cell_type": "code",
   "execution_count": null,
   "id": "050935ff-8c0a-4059-9449-86f987873a58",
   "metadata": {},
   "outputs": [],
   "source": []
  },
  {
   "cell_type": "code",
   "execution_count": 3,
   "id": "45cf4455-b48f-4eda-b097-fdf3c59d6d67",
   "metadata": {},
   "outputs": [
    {
     "name": "stdout",
     "output_type": "stream",
     "text": [
      "\n",
      "Data Split Complete:\n",
      "Training Data Size: 1275\n",
      "Testing Data Size: 225\n"
     ]
    }
   ],
   "source": [
    "# Combine X and y into a single DataFrame\n",
    "filtered_data = pd.DataFrame({\"Symptom Description\": X, \"Potential Condition\": y})\n",
    "\n",
    "# Split into training and testing sets\n",
    "train_data, test_data = train_test_split(filtered_data, test_size=0.15, random_state=42)\n",
    "\n",
    "# Save the splits to CSV files for further processing\n",
    "train_data.to_csv(\"train_data.csv\", index=False)\n",
    "test_data.to_csv(\"test_data.csv\", index=False)\n",
    "\n",
    "print(f\"\\nData Split Complete:\")\n",
    "print(f\"Training Data Size: {len(train_data)}\")\n",
    "print(f\"Testing Data Size: {len(test_data)}\")\n"
   ]
  },
  {
   "cell_type": "code",
   "execution_count": null,
   "id": "227a04e3-0df5-45a5-a805-32ac1982834a",
   "metadata": {},
   "outputs": [],
   "source": []
  },
  {
   "cell_type": "code",
   "execution_count": 4,
   "id": "019d5b14-996d-46fc-929b-5372ff5fa37b",
   "metadata": {},
   "outputs": [
    {
     "name": "stderr",
     "output_type": "stream",
     "text": [
      "Some weights of BertForSequenceClassification were not initialized from the model checkpoint at dmis-lab/biobert-base-cased-v1.1 and are newly initialized: ['classifier.bias', 'classifier.weight']\n",
      "You should probably TRAIN this model on a down-stream task to be able to use it for predictions and inference.\n"
     ]
    },
    {
     "data": {
      "text/plain": [
       "BertForSequenceClassification(\n",
       "  (bert): BertModel(\n",
       "    (embeddings): BertEmbeddings(\n",
       "      (word_embeddings): Embedding(28996, 768, padding_idx=0)\n",
       "      (position_embeddings): Embedding(512, 768)\n",
       "      (token_type_embeddings): Embedding(2, 768)\n",
       "      (LayerNorm): LayerNorm((768,), eps=1e-12, elementwise_affine=True)\n",
       "      (dropout): Dropout(p=0.1, inplace=False)\n",
       "    )\n",
       "    (encoder): BertEncoder(\n",
       "      (layer): ModuleList(\n",
       "        (0-11): 12 x BertLayer(\n",
       "          (attention): BertAttention(\n",
       "            (self): BertSdpaSelfAttention(\n",
       "              (query): Linear(in_features=768, out_features=768, bias=True)\n",
       "              (key): Linear(in_features=768, out_features=768, bias=True)\n",
       "              (value): Linear(in_features=768, out_features=768, bias=True)\n",
       "              (dropout): Dropout(p=0.1, inplace=False)\n",
       "            )\n",
       "            (output): BertSelfOutput(\n",
       "              (dense): Linear(in_features=768, out_features=768, bias=True)\n",
       "              (LayerNorm): LayerNorm((768,), eps=1e-12, elementwise_affine=True)\n",
       "              (dropout): Dropout(p=0.1, inplace=False)\n",
       "            )\n",
       "          )\n",
       "          (intermediate): BertIntermediate(\n",
       "            (dense): Linear(in_features=768, out_features=3072, bias=True)\n",
       "            (intermediate_act_fn): GELUActivation()\n",
       "          )\n",
       "          (output): BertOutput(\n",
       "            (dense): Linear(in_features=3072, out_features=768, bias=True)\n",
       "            (LayerNorm): LayerNorm((768,), eps=1e-12, elementwise_affine=True)\n",
       "            (dropout): Dropout(p=0.1, inplace=False)\n",
       "          )\n",
       "        )\n",
       "      )\n",
       "    )\n",
       "    (pooler): BertPooler(\n",
       "      (dense): Linear(in_features=768, out_features=768, bias=True)\n",
       "      (activation): Tanh()\n",
       "    )\n",
       "  )\n",
       "  (dropout): Dropout(p=0.1, inplace=False)\n",
       "  (classifier): Linear(in_features=768, out_features=15, bias=True)\n",
       ")"
      ]
     },
     "execution_count": 4,
     "metadata": {},
     "output_type": "execute_result"
    }
   ],
   "source": [
    "# Load BioBERT Tokenizer and Model\n",
    "tokenizer = BertTokenizer.from_pretrained(\"dmis-lab/biobert-base-cased-v1.1\")\n",
    "model = BertForSequenceClassification.from_pretrained(\n",
    "    \"dmis-lab/biobert-base-cased-v1.1\", num_labels=len(np.unique(y))\n",
    ")\n",
    "\n",
    "# Set device to GPU if available\n",
    "device = torch.device(\"cuda\" if torch.cuda.is_available() else \"cpu\")\n",
    "model.to(device)\n"
   ]
  },
  {
   "cell_type": "code",
   "execution_count": null,
   "id": "7ffe27a5-8fb4-4d06-9b95-39255d543626",
   "metadata": {},
   "outputs": [],
   "source": []
  },
  {
   "cell_type": "code",
   "execution_count": 5,
   "id": "7dea2927-f26f-4f78-a2a6-634203ee772f",
   "metadata": {},
   "outputs": [],
   "source": [
    "class SymptomDataset(Dataset):\n",
    "    def __init__(self, texts, labels, tokenizer, max_len):\n",
    "        self.texts = texts\n",
    "        self.labels = labels\n",
    "        self.tokenizer = tokenizer\n",
    "        self.max_len = max_len\n",
    "\n",
    "    def __len__(self):\n",
    "        return len(self.texts)\n",
    "\n",
    "    def __getitem__(self, idx):\n",
    "        text = self.texts[idx]\n",
    "        label = self.labels[idx]\n",
    "\n",
    "        # Tokenize the input text\n",
    "        encoding = self.tokenizer.encode_plus(\n",
    "            text,\n",
    "            max_length=self.max_len,\n",
    "            add_special_tokens=True,\n",
    "            truncation=True,\n",
    "            padding=\"max_length\",\n",
    "            return_attention_mask=True,\n",
    "            return_tensors=\"pt\",\n",
    "        )\n",
    "\n",
    "        return {\n",
    "            \"input_ids\": encoding[\"input_ids\"].squeeze(0),\n",
    "            \"attention_mask\": encoding[\"attention_mask\"].squeeze(0),\n",
    "            \"labels\": torch.tensor(label, dtype=torch.long),\n",
    "        }\n"
   ]
  },
  {
   "cell_type": "code",
   "execution_count": null,
   "id": "2bb0aab9-e834-411e-a088-659295cee8f7",
   "metadata": {},
   "outputs": [],
   "source": []
  },
  {
   "cell_type": "code",
   "execution_count": 16,
   "id": "5f3ed69d-d99d-458f-9064-e201e1cd539a",
   "metadata": {},
   "outputs": [],
   "source": [
    "# Reload the training and testing data from saved CSVs\n",
    "train_data = pd.read_csv(\"train_data.csv\")\n",
    "test_data = pd.read_csv(\"test_data.csv\")\n",
    "\n",
    "# Define maximum sequence length and batch size\n",
    "MAX_LEN = 128\n",
    "BATCH_SIZE = 16\n",
    "\n",
    "# Create datasets\n",
    "train_dataset = SymptomDataset(\n",
    "    train_data[\"Symptom Description\"].tolist(), train_data[\"Potential Condition\"], tokenizer, MAX_LEN\n",
    ")\n",
    "test_dataset = SymptomDataset(\n",
    "    test_data[\"Symptom Description\"].tolist(), test_data[\"Potential Condition\"], tokenizer, MAX_LEN\n",
    ")\n",
    "\n",
    "# Create dataloaders\n",
    "train_loader = DataLoader(train_dataset, batch_size=BATCH_SIZE, shuffle=True)\n",
    "test_loader = DataLoader(test_dataset, batch_size=BATCH_SIZE, shuffle=False)\n"
   ]
  },
  {
   "cell_type": "code",
   "execution_count": null,
   "id": "0f554260-ed21-4e8d-a61d-3ae6ae2fa688",
   "metadata": {},
   "outputs": [],
   "source": []
  },
  {
   "cell_type": "code",
   "execution_count": 7,
   "id": "53f5f986-f7af-4859-ba55-8af2583f81f2",
   "metadata": {},
   "outputs": [
    {
     "name": "stderr",
     "output_type": "stream",
     "text": [
      "D:\\Amaan\\New folder\\Lib\\site-packages\\transformers\\optimization.py:591: FutureWarning: This implementation of AdamW is deprecated and will be removed in a future version. Use the PyTorch implementation torch.optim.AdamW instead, or set `no_deprecation_warning=True` to disable this warning\n",
      "  warnings.warn(\n"
     ]
    }
   ],
   "source": [
    "# Define optimizer\n",
    "optimizer = AdamW(model.parameters(), lr=2e-5, eps=1e-8)\n"
   ]
  },
  {
   "cell_type": "code",
   "execution_count": null,
   "id": "515aa2c3-e44e-40a9-a3f7-5e1b4c9c26e2",
   "metadata": {},
   "outputs": [],
   "source": []
  },
  {
   "cell_type": "code",
   "execution_count": 8,
   "id": "ccccc94a-1ac0-49dd-82a2-3071ee09b113",
   "metadata": {},
   "outputs": [
    {
     "name": "stdout",
     "output_type": "stream",
     "text": [
      "Epoch 1/3\n",
      "  Step 0/80 - Loss: 2.6995\n",
      "  Step 10/80 - Loss: 2.6679\n",
      "  Step 20/80 - Loss: 2.4892\n",
      "  Step 30/80 - Loss: 2.7207\n",
      "  Step 40/80 - Loss: 2.6024\n",
      "  Step 50/80 - Loss: 2.5358\n",
      "  Step 60/80 - Loss: 2.5128\n",
      "  Step 70/80 - Loss: 2.7297\n",
      "Epoch 1 completed. Average Loss: 2.6524\n",
      "Epoch 2/3\n",
      "  Step 0/80 - Loss: 2.7012\n",
      "  Step 10/80 - Loss: 2.5362\n",
      "  Step 20/80 - Loss: 2.6429\n",
      "  Step 30/80 - Loss: 2.6435\n",
      "  Step 40/80 - Loss: 2.8186\n",
      "  Step 50/80 - Loss: 2.4965\n",
      "  Step 60/80 - Loss: 2.6904\n",
      "  Step 70/80 - Loss: 2.4594\n",
      "Epoch 2 completed. Average Loss: 2.6351\n",
      "Epoch 3/3\n",
      "  Step 0/80 - Loss: 2.6999\n",
      "  Step 10/80 - Loss: 2.4674\n",
      "  Step 20/80 - Loss: 2.6290\n",
      "  Step 30/80 - Loss: 2.3426\n",
      "  Step 40/80 - Loss: 2.6089\n",
      "  Step 50/80 - Loss: 2.6992\n",
      "  Step 60/80 - Loss: 2.5037\n",
      "  Step 70/80 - Loss: 2.6219\n",
      "Epoch 3 completed. Average Loss: 2.6260\n"
     ]
    }
   ],
   "source": [
    "EPOCHS = 3\n",
    "\n",
    "for epoch in range(EPOCHS):\n",
    "    model.train()\n",
    "    total_loss = 0\n",
    "    print(f\"Epoch {epoch + 1}/{EPOCHS}\")\n",
    "\n",
    "    for step, batch in enumerate(train_loader):\n",
    "        input_ids = batch[\"input_ids\"].to(device)\n",
    "        attention_mask = batch[\"attention_mask\"].to(device)\n",
    "        labels = batch[\"labels\"].to(device)\n",
    "\n",
    "        optimizer.zero_grad()\n",
    "        outputs = model(input_ids, attention_mask=attention_mask, labels=labels)\n",
    "        loss = outputs.loss\n",
    "        total_loss += loss.item()\n",
    "\n",
    "        loss.backward()\n",
    "        optimizer.step()\n",
    "\n",
    "        if step % 10 == 0:\n",
    "            print(f\"  Step {step}/{len(train_loader)} - Loss: {loss.item():.4f}\")\n",
    "\n",
    "    avg_loss = total_loss / len(train_loader)\n",
    "    print(f\"Epoch {epoch + 1} completed. Average Loss: {avg_loss:.4f}\")\n"
   ]
  },
  {
   "cell_type": "code",
   "execution_count": 9,
   "id": "05413c28-f28d-4fc9-b022-72816e0c35f4",
   "metadata": {},
   "outputs": [
    {
     "data": {
      "text/plain": [
       "('biobert_tokenizer\\\\tokenizer_config.json',\n",
       " 'biobert_tokenizer\\\\special_tokens_map.json',\n",
       " 'biobert_tokenizer\\\\vocab.txt',\n",
       " 'biobert_tokenizer\\\\added_tokens.json')"
      ]
     },
     "execution_count": 9,
     "metadata": {},
     "output_type": "execute_result"
    }
   ],
   "source": [
    "# Save the trained model and tokenizer\n",
    "model.save_pretrained(\"biobert_model\")\n",
    "tokenizer.save_pretrained(\"biobert_tokenizer\")\n"
   ]
  },
  {
   "cell_type": "markdown",
   "id": "5389568f-9e4b-46be-9624-6d3c118d8d80",
   "metadata": {},
   "source": [
    "# Testing Bio-Bert model \n"
   ]
  },
  {
   "cell_type": "code",
   "execution_count": null,
   "id": "047b86e2-abf8-42f5-a3d9-a3734118b77f",
   "metadata": {},
   "outputs": [],
   "source": []
  },
  {
   "cell_type": "code",
   "execution_count": 2,
   "id": "9e122aae-4cb0-4ffe-96b0-5f913a14e7f8",
   "metadata": {},
   "outputs": [
    {
     "name": "stdin",
     "output_type": "stream",
     "text": [
      "Please describe your symptoms:  chills\n"
     ]
    },
    {
     "name": "stdout",
     "output_type": "stream",
     "text": [
      "\n",
      "Predicted Condition: Common Cold\n",
      "Suggested Action: Drink plenty of fluids and rest.\n"
     ]
    }
   ],
   "source": [
    "# Import necessary libraries\n",
    "from transformers import BertTokenizer, BertForSequenceClassification\n",
    "import torch\n",
    "\n",
    "# Load the fine-tuned model and tokenizer\n",
    "tokenizer = BertTokenizer.from_pretrained(\"biobert_tokenizer\")\n",
    "model = BertForSequenceClassification.from_pretrained(\"biobert_model\")\n",
    "\n",
    "# Set the model to evaluation mode\n",
    "model.eval()\n",
    "\n",
    "# Map predicted label to condition and remedy\n",
    "condition_mapping = {\n",
    "    0: (\"Allergic Reaction\", \"Take antihistamines and avoid allergens.\"),\n",
    "    1: (\"Anxiety\", \"Practice deep breathing or consult a therapist.\"),\n",
    "    2: (\"Arthritis\", \"Apply a warm compress and take anti-inflammatory medications.\"),\n",
    "    3: (\"Asthma\", \"Use your inhaler and seek fresh air.\"),\n",
    "    4: (\"COVID-19\", \"Isolate, rest, and monitor symptoms. Consult a doctor if severe.\"),\n",
    "    5: (\"Common Cold\", \"Drink plenty of fluids and rest.\"),\n",
    "    6: (\"Diabetes\", \"Monitor your blood sugar levels and follow your prescribed treatment.\"),\n",
    "    7: (\"Flu\", \"Rest, stay hydrated, and take fever reducers.\"),\n",
    "    8: (\"Food Poisoning\", \"Stay hydrated and avoid solid foods until symptoms improve.\"),\n",
    "    9: (\"Gastroenteritis\", \"Drink oral rehydration solutions and rest.\"),\n",
    "    10: (\"Hypertension\", \"Reduce salt intake and practice relaxation techniques.\"),\n",
    "    11: (\"Kidney Stones\", \"Drink plenty of water and take prescribed pain relief.\"),\n",
    "    12: (\"Migraine\", \"Rest in a dark, quiet room and take prescribed medications.\"),\n",
    "    13: (\"Muscle Strain\", \"Apply ice, rest, and gently stretch the muscle.\"),\n",
    "    14: (\"Sinus Infection\", \"Use steam inhalation and drink warm fluids.\")\n",
    "}\n",
    "\n",
    "# Function for manual symptom testing\n",
    "def predict_condition():\n",
    "    # Ask the user to input their symptoms\n",
    "    symptom_description = input(\"Please describe your symptoms: \")\n",
    "    \n",
    "    # Tokenise the input\n",
    "    inputs = tokenizer(\n",
    "        symptom_description,\n",
    "        return_tensors=\"pt\",\n",
    "        padding=\"max_length\",\n",
    "        truncation=True,\n",
    "        max_length=128\n",
    "    )\n",
    "    \n",
    "    # Run inference\n",
    "    with torch.no_grad():\n",
    "        outputs = model(**inputs)\n",
    "        logits = outputs.logits\n",
    "        predicted_label = torch.argmax(logits, dim=1).item()\n",
    "    \n",
    "    # Get the diagnosis and remedy\n",
    "    diagnosis, remedy = condition_mapping.get(predicted_label, (\"Unknown Condition\", \"Please consult a doctor for more information.\"))\n",
    "    \n",
    "    # Print the predicted diagnosis and remedy\n",
    "    print(f\"\\nPredicted Condition: {diagnosis}\")\n",
    "    print(f\"Suggested Action: {remedy}\")\n",
    "\n",
    "# Run the function\n",
    "predict_condition()\n"
   ]
  },
  {
   "cell_type": "markdown",
   "id": "f0187ca2-1ec4-485d-bb2f-f15cc46563cf",
   "metadata": {},
   "source": [
    "# Additional feature added "
   ]
  },
  {
   "cell_type": "code",
   "execution_count": 7,
   "id": "9986660d-c6c0-45fe-88b1-edbd6c62b0d9",
   "metadata": {},
   "outputs": [
    {
     "name": "stdin",
     "output_type": "stream",
     "text": [
      "Please describe your symptoms:  I have severe chest pain and difficulty breathing.\n"
     ]
    },
    {
     "name": "stdout",
     "output_type": "stream",
     "text": [
      "\n",
      "Predicted diagnosis: Common Cold\n",
      "Suggested remedy: Drink plenty of fluids and rest.\n"
     ]
    }
   ],
   "source": [
    "# Load the fine-tuned model and tokenizer\n",
    "from transformers import BertTokenizer, BertForSequenceClassification\n",
    "import torch\n",
    "\n",
    "# Load tokenizer and model\n",
    "tokenizer = BertTokenizer.from_pretrained(\"biobert_tokenizer\")\n",
    "model = BertForSequenceClassification.from_pretrained(\"biobert_model\")\n",
    "\n",
    "# Set the model to evaluation mode\n",
    "model.eval()\n",
    "\n",
    "# Map predicted label to condition and remedy\n",
    "condition_mapping = {\n",
    "    0: (\"Allergic Reaction\", \"Take antihistamines and avoid allergens.\"),\n",
    "    1: (\"Anxiety\", \"Practice deep breathing or consult a therapist.\"),\n",
    "    2: (\"Arthritis\", \"Apply a warm compress and take anti-inflammatory medications.\"),\n",
    "    3: (\"Asthma\", \"Use your inhaler and seek fresh air.\"),\n",
    "    4: (\"COVID-19\", \"Isolate, rest, and monitor symptoms. Consult a doctor if severe.\"),\n",
    "    5: (\"Common Cold\", \"Drink plenty of fluids and rest.\"),\n",
    "    6: (\"Diabetes\", \"Monitor your blood sugar levels and follow your prescribed treatment.\"),\n",
    "    7: (\"Flu\", \"Rest, stay hydrated, and take fever reducers.\"),\n",
    "    8: (\"Food Poisoning\", \"Stay hydrated and avoid solid foods until symptoms improve.\"),\n",
    "    9: (\"Gastroenteritis\", \"Drink oral rehydration solutions and rest.\"),\n",
    "    10: (\"Hypertension\", \"Reduce salt intake and practice relaxation techniques.\"),\n",
    "    11: (\"Kidney Stones\", \"Drink plenty of water and take prescribed pain relief.\"),\n",
    "    12: (\"Migraine\", \"Rest in a dark, quiet room and take prescribed medications.\"),\n",
    "    13: (\"Muscle Strain\", \"Apply ice, rest, and gently stretch the muscle.\"),\n",
    "    14: (\"Sinus Infection\", \"Use steam inhalation and drink warm fluids.\"),\n",
    "    15: (\"Heart Attack\", \"Call emergency services immediately and chew aspirin if available.\"),\n",
    "    16: (\"Stroke\", \"Call emergency services immediately. Do not wait.\"),\n",
    "    17: (\"Severe Allergic Reaction\", \"Use an epinephrine auto-injector and call emergency services.\")\n",
    "}\n",
    "\n",
    "# Ask the user to input their symptoms\n",
    "symptom_description = input(\"Please describe your symptoms: \")\n",
    "\n",
    "# Tokenise the input\n",
    "inputs = tokenizer(\n",
    "    symptom_description,\n",
    "    return_tensors=\"pt\",\n",
    "    padding=\"max_length\",\n",
    "    truncation=True,\n",
    "    max_length=128\n",
    ")\n",
    "\n",
    "# Run inference\n",
    "with torch.no_grad():\n",
    "    outputs = model(**inputs)\n",
    "    logits = outputs.logits\n",
    "    predicted_label = torch.argmax(logits, dim=1).item()\n",
    "\n",
    "# Get the diagnosis and remedy\n",
    "diagnosis, remedy = condition_mapping.get(predicted_label, (\"Unknown Condition\", \"Please consult a doctor for more information.\"))\n",
    "\n",
    "# Print the predicted diagnosis and remedy\n",
    "print(f\"\\nPredicted diagnosis: {diagnosis}\")\n",
    "print(f\"Suggested remedy: {remedy}\")\n",
    "\n",
    "# Additional check for emergency conditions\n",
    "if predicted_label in [15, 16, 17]:  # Emergency conditions\n",
    "    print(\"⚠️ Warning: Your symptoms indicate a medical emergency. Please seek immediate medical attention.\")\n"
   ]
  },
  {
   "cell_type": "markdown",
   "id": "22cbc027-d647-4022-946f-20340136e63c",
   "metadata": {},
   "source": [
    "# Model Evaluation and Reflection"
   ]
  },
  {
   "cell_type": "code",
   "execution_count": 14,
   "id": "339d53bb-ed26-4c86-b085-05d5852083af",
   "metadata": {},
   "outputs": [
    {
     "name": "stdout",
     "output_type": "stream",
     "text": [
      "                            Input           Expected    Predicted  Confidence  \\\n",
      "0                            pain  Unknown Condition  Common Cold    0.210000   \n",
      "1  severe chest pain and sweating       Heart Attack  Common Cold    0.240320   \n",
      "2            difficulty breathing             Asthma  Common Cold    0.219702   \n",
      "3                        headache           Migraine  Common Cold    0.205116   \n",
      "4                   I feel unwell  Unknown Condition  Common Cold    0.195772   \n",
      "\n",
      "   Correct  \n",
      "0    False  \n",
      "1    False  \n",
      "2    False  \n",
      "3    False  \n",
      "4    False  \n"
     ]
    }
   ],
   "source": [
    "from transformers import BertTokenizer, BertForSequenceClassification\n",
    "import torch\n",
    "import pandas as pd\n",
    "\n",
    "# Step 1: Load the fine-tuned model and tokenizer\n",
    "tokenizer = BertTokenizer.from_pretrained(\"biobert_tokenizer\")\n",
    "model = BertForSequenceClassification.from_pretrained(\"biobert_model\")\n",
    "model.eval()  # Set the model to evaluation mode\n",
    "device = torch.device(\"cuda\" if torch.cuda.is_available() else \"cpu\")\n",
    "model.to(device)\n",
    "\n",
    "# Step 2: Define evaluation dataset for ambiguous, incomplete, and emergency inputs\n",
    "evaluation_data = [\n",
    "    {\"input\": \"pain\", \"expected\": \"Unknown Condition\"},\n",
    "    {\"input\": \"severe chest pain and sweating\", \"expected\": \"Heart Attack\"},\n",
    "    {\"input\": \"difficulty breathing\", \"expected\": \"Asthma\"},\n",
    "    {\"input\": \"headache\", \"expected\": \"Migraine\"},\n",
    "    {\"input\": \"I feel unwell\", \"expected\": \"Unknown Condition\"},\n",
    "]\n",
    "\n",
    "# Map predicted label to condition\n",
    "condition_mapping = {\n",
    "    0: \"Allergic Reaction\",\n",
    "    1: \"Anxiety\",\n",
    "    2: \"Arthritis\",\n",
    "    3: \"Asthma\",\n",
    "    4: \"COVID-19\",\n",
    "    5: \"Common Cold\",\n",
    "    6: \"Diabetes\",\n",
    "    7: \"Flu\",\n",
    "    8: \"Food Poisoning\",\n",
    "    9: \"Gastroenteritis\",\n",
    "    10: \"Hypertension\",\n",
    "    11: \"Kidney Stones\",\n",
    "    12: \"Migraine\",\n",
    "    13: \"Muscle Strain\",\n",
    "    14: \"Sinus Infection\",\n",
    "    15: \"Heart Attack\",\n",
    "    16: \"Stroke\",\n",
    "    17: \"Severe Allergic Reaction\",\n",
    "    \"unknown\": \"Unknown Condition\",\n",
    "}\n",
    "\n",
    "# Step 3: Define a function for testing predictions\n",
    "def evaluate_model_on_input(text):\n",
    "    inputs = tokenizer(\n",
    "        text,\n",
    "        return_tensors=\"pt\",\n",
    "        padding=\"max_length\",\n",
    "        truncation=True,\n",
    "        max_length=128\n",
    "    ).to(device)\n",
    "\n",
    "    with torch.no_grad():\n",
    "        outputs = model(**inputs)\n",
    "        logits = outputs.logits\n",
    "        confidence, predicted_label = torch.softmax(logits, dim=1).max(dim=1)\n",
    "        predicted_condition = condition_mapping.get(\n",
    "            predicted_label.item(), \"Unknown Condition\"\n",
    "        )\n",
    "    \n",
    "    return predicted_condition, confidence.item()\n",
    "\n",
    "# Step 4: Evaluate the model on the test cases\n",
    "results = []\n",
    "for case in evaluation_data:\n",
    "    prediction, confidence = evaluate_model_on_input(case[\"input\"])\n",
    "    results.append({\n",
    "        \"Input\": case[\"input\"],\n",
    "        \"Expected\": case[\"expected\"],\n",
    "        \"Predicted\": prediction,\n",
    "        \"Confidence\": confidence,\n",
    "        \"Correct\": prediction == case[\"expected\"]\n",
    "    })\n",
    "\n",
    "# Convert results to a DataFrame for clarity\n",
    "results_df = pd.DataFrame(results)\n",
    "print(results_df)\n"
   ]
  },
  {
   "cell_type": "code",
   "execution_count": 18,
   "id": "95c36ef1-dc00-4b07-b15c-a442de32ce5b",
   "metadata": {},
   "outputs": [
    {
     "name": "stdout",
     "output_type": "stream",
     "text": [
      "Accuracy: 0.24\n",
      "\n",
      "Classification Report:\n",
      "              precision    recall  f1-score   support\n",
      "\n",
      "           0       0.00      0.00      0.00         9\n",
      "           1       0.00      0.00      0.00         9\n",
      "           2       0.00      0.00      0.00        13\n",
      "           3       0.00      0.00      0.00        13\n",
      "           4       0.00      0.00      0.00        11\n",
      "           5       0.24      1.00      0.39        54\n",
      "           6       0.00      0.00      0.00        17\n",
      "           7       0.00      0.00      0.00        14\n",
      "           8       0.00      0.00      0.00         7\n",
      "           9       0.00      0.00      0.00        13\n",
      "          10       0.00      0.00      0.00        13\n",
      "          11       0.00      0.00      0.00        12\n",
      "          12       0.00      0.00      0.00        10\n",
      "          13       0.00      0.00      0.00        19\n",
      "          14       0.00      0.00      0.00        11\n",
      "\n",
      "    accuracy                           0.24       225\n",
      "   macro avg       0.02      0.07      0.03       225\n",
      "weighted avg       0.06      0.24      0.09       225\n",
      "\n"
     ]
    },
    {
     "data": {
      "image/png": "[encoded data removed]",
      "text/plain": [
       "<Figure size 1200x800 with 2 Axes>"
      ]
     },
     "metadata": {},
     "output_type": "display_data"
    },
    {
     "name": "stdout",
     "output_type": "stream",
     "text": [
      "True Label Counts: Counter({5: 54, 13: 19, 6: 17, 7: 14, 2: 13, 3: 13, 10: 13, 9: 13, 11: 12, 14: 11, 4: 11, 12: 10, 0: 9, 1: 9, 8: 7})\n",
      "Predicted Label Counts: Counter({5: 225})\n"
     ]
    }
   ],
   "source": [
    "import matplotlib.pyplot as plt\n",
    "import seaborn as sns\n",
    "from sklearn.metrics import accuracy_score, classification_report, confusion_matrix\n",
    "from collections import Counter\n",
    "import torch\n",
    "\n",
    "# Generate predictions on the test dataset\n",
    "predictions, true_labels = [], []\n",
    "\n",
    "# Ensure the model is in evaluation mode\n",
    "model.eval()\n",
    "\n",
    "# Run inference on the test dataset\n",
    "with torch.no_grad():\n",
    "    for batch in test_loader:\n",
    "        input_ids = batch[\"input_ids\"].to(device)\n",
    "        attention_mask = batch[\"attention_mask\"].to(device)\n",
    "        labels = batch[\"labels\"].to(device)\n",
    "\n",
    "        # Forward pass\n",
    "        outputs = model(input_ids, attention_mask=attention_mask)\n",
    "        logits = outputs.logits\n",
    "\n",
    "        # Get predicted labels and ground truth\n",
    "        predictions.extend(torch.argmax(logits, axis=1).cpu().numpy())\n",
    "        true_labels.extend(labels.cpu().numpy())\n",
    "\n",
    "# Calculate Accuracy\n",
    "accuracy = accuracy_score(true_labels, predictions)\n",
    "print(f\"Accuracy: {accuracy:.2f}\")\n",
    "\n",
    "# Classification Report with zero_division=0 to handle undefined metrics\n",
    "print(\"\\nClassification Report:\")\n",
    "print(classification_report(true_labels, predictions, zero_division=0))\n",
    "\n",
    "# Confusion Matrix\n",
    "cm = confusion_matrix(true_labels, predictions)\n",
    "\n",
    "# Plot Confusion Matrix\n",
    "plt.figure(figsize=(12, 8))\n",
    "sns.heatmap(cm, annot=True, fmt='d', cmap='Blues',\n",
    "            xticklabels=list(condition_mapping.values()), \n",
    "            yticklabels=list(condition_mapping.values()))\n",
    "plt.xlabel('Predicted')\n",
    "plt.ylabel('True')\n",
    "plt.title('Confusion Matrix')\n",
    "plt.show()\n",
    "\n",
    "# Count true and predicted labels\n",
    "true_label_counts = Counter(true_labels)\n",
    "predicted_label_counts = Counter(predictions)\n",
    "\n",
    "# Print label-wise counts\n",
    "print(\"True Label Counts:\", true_label_counts)\n",
    "print(\"Predicted Label Counts:\", predicted_label_counts)\n",
    "\n"
   ]
  },
  {
   "cell_type": "code",
   "execution_count": null,
   "id": "ebc36590-c1aa-4959-b28d-1943836bd5cf",
   "metadata": {},
   "outputs": [],
   "source": []
  }
 ],
 "metadata": {
  "kernelspec": {
   "display_name": "Python 3 (ipykernel)",
   "language": "python",
   "name": "python3"
  },
  "language_info": {
   "codemirror_mode": {
    "name": "ipython",
    "version": 3
   },
   "file_extension": ".py",
   "mimetype": "text/x-python",
   "name": "python",
   "nbconvert_exporter": "python",
   "pygments_lexer": "ipython3",
   "version": "3.12.7"
  }
 },
 "nbformat": 4,
 "nbformat_minor": 5
}
